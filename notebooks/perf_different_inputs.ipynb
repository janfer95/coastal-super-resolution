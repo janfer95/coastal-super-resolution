{
 "cells": [
  {
   "cell_type": "code",
   "execution_count": 3,
   "metadata": {},
   "outputs": [],
   "source": [
    "import numpy as np\n",
    "import matplotlib.pyplot as plt\n",
    "\n",
    "from pathlib import Path\n",
    "\n",
    "from datautilities import meshmethods as mm"
   ]
  },
  {
   "cell_type": "markdown",
   "metadata": {},
   "source": [
    "# Region 1"
   ]
  },
  {
   "cell_type": "code",
   "execution_count": 2,
   "metadata": {},
   "outputs": [],
   "source": [
    "nregion = 1\n",
    "region = f\"Region{nregion}LR4\"\n",
    "root_dir = Path(\"../Data\") / region\n",
    "\n",
    "test_years = 1964\n",
    "\n",
    "res = \"HR_6cpu\""
   ]
  },
  {
   "cell_type": "code",
   "execution_count": 3,
   "metadata": {},
   "outputs": [],
   "source": [
    "# Load the different predictions\n",
    "pred_all_fname = \"region1-lr8-migraphnet-59-60-61-62-63-15-5-wreg.npy\"\n",
    "pred_all = np.load(root_dir / \"predictions\" / pred_all_fname)\n",
    "\n",
    "pred_hs_fname = \"region1-lr8-migraphnet-59-60-61-62-63-15-5-wreg-only-hs.npy\"\n",
    "pred_hs = np.load(root_dir / \"predictions\" / pred_hs_fname)\n",
    "\n",
    "pred_hs_tm_fname = \"region1-lr8-migraphnet-59-60-61-62-63-15-5-wreg-hs-tm.npy\"\n",
    "pred_hs_tm = np.load(root_dir / \"predictions\" / pred_hs_tm_fname)\n",
    "\n",
    "pred_hs_dir_fname = \"region1-lr8-migraphnet-59-60-61-62-63-15-5-wreg-hs-dir.npy\"\n",
    "pred_hs_dir = np.load(root_dir / \"predictions\" / pred_hs_dir_fname)\n",
    "\n",
    "pred_hs_dir_fname = \"region123-lr8-migraphnet-59-60-61-62-63-15-5-wreg-hs-dir.npy\"\n",
    "pred_hs_dir2 = np.load(root_dir / \"predictions\" / pred_hs_dir_fname)\n",
    "\n",
    "pred_hs_bat_fname = \"region1-lr8-migraphnet-59-60-61-62-63-15-5-wreg-hs-bat.npy\"\n",
    "pred_hs_bat = np.load(root_dir / \"predictions\" / pred_hs_bat_fname)\n",
    "\n",
    "# Load the drop index\n",
    "drop_idx = np.load(root_dir / res / \"drop_index.npy\")"
   ]
  },
  {
   "cell_type": "code",
   "execution_count": 4,
   "metadata": {},
   "outputs": [
    {
     "name": "stderr",
     "output_type": "stream",
     "text": [
      "/home/jannik/Documents/PhD/Super_Resolution_General/SROnUnstructuredGrids/datautilities/datautilities/meshmethods.py:106: RuntimeWarning: invalid value encountered in cast\n",
      "  data[idx] = np.load(fpath).squeeze()\n"
     ]
    }
   ],
   "source": [
    "# Load test data\n",
    "y_test = mm.load_data(years=test_years, res=res, root_dir=root_dir)\n",
    "\n",
    "# Delete the nan indices and flatten the data\n",
    "y_test = np.delete(y_test, drop_idx, axis=1).flatten()"
   ]
  },
  {
   "cell_type": "code",
   "execution_count": 12,
   "metadata": {},
   "outputs": [],
   "source": [
    "hh = np.sqrt(np.sum((y_test - pred_hs_dir) ** 2) / np.sum(y_test * pred_hs_dir) )"
   ]
  },
  {
   "cell_type": "code",
   "execution_count": 13,
   "metadata": {},
   "outputs": [],
   "source": [
    "nbi = (y_test.mean() - pred_hs_dir.mean()) / y_test.mean()"
   ]
  },
  {
   "cell_type": "code",
   "execution_count": 14,
   "metadata": {},
   "outputs": [
    {
     "name": "stdout",
     "output_type": "stream",
     "text": [
      "0.008277174819259185\n",
      "-0.00020276565478556397\n"
     ]
    }
   ],
   "source": [
    "print(hh)\n",
    "print(nbi)"
   ]
  },
  {
   "cell_type": "code",
   "execution_count": 5,
   "metadata": {},
   "outputs": [
    {
     "name": "stdout",
     "output_type": "stream",
     "text": [
      "All variables\n",
      "MAE: 0.011699038085710083\n",
      "RMSE: 0.018679947516183012\n",
      "Max: 0.290111780166626\n",
      "\n",
      "HS only\n",
      "MAE: 0.014591806494048731\n",
      "RMSE: 0.023580399233524778\n",
      "Max: 0.3451411724090576\n",
      "\n",
      "HS + TM\n",
      "MAE: 0.014037845996647357\n",
      "RMSE: 0.0219588578022105\n",
      "Max: 0.3214043378829956\n",
      "\n",
      "HS + Dir\n",
      "MAE: 0.011269385565525954\n",
      "RMSE: 0.017940565950113674\n",
      "Max: 0.2376384735107422\n",
      "\n",
      "HS + Dir2\n",
      "MAE: 0.012438583859838379\n",
      "RMSE: 0.021016357670942235\n",
      "Max: 0.3070850372314453\n",
      "\n",
      "HS + Bat\n",
      "MAE: 0.014066460653713796\n",
      "RMSE: 0.022968478180398044\n",
      "Max: 0.28459930419921875\n"
     ]
    }
   ],
   "source": [
    "# Compute the mae, rmse, and max error for each prediction\n",
    "pred_all_mae = np.mean(np.abs(pred_all - y_test))\n",
    "pred_all_rmse = np.sqrt(np.mean((pred_all - y_test) ** 2))\n",
    "pred_all_max = np.max(np.abs(pred_all - y_test))\n",
    "\n",
    "pred_hs_mae = np.mean(np.abs(pred_hs - y_test))\n",
    "pred_hs_rmse = np.sqrt(np.mean((pred_hs - y_test) ** 2))\n",
    "pred_hs_max = np.max(np.abs(pred_hs - y_test))\n",
    "\n",
    "pred_hs_tm_mae = np.mean(np.abs(pred_hs_tm - y_test))\n",
    "pred_hs_tm_rmse = np.sqrt(np.mean((pred_hs_tm - y_test) ** 2))\n",
    "pred_hs_tm_max = np.max(np.abs(pred_hs_tm - y_test))\n",
    "\n",
    "pred_hs_dir_mae = np.mean(np.abs(pred_hs_dir - y_test))\n",
    "pred_hs_dir_rmse = np.sqrt(np.mean((pred_hs_dir - y_test) ** 2))\n",
    "pred_hs_dir_max = np.max(np.abs(pred_hs_dir - y_test))\n",
    "\n",
    "pred_hs_dir2_mae = np.mean(np.abs(pred_hs_dir2 - y_test))\n",
    "pred_hs_dir2_rmse = np.sqrt(np.mean((pred_hs_dir2 - y_test) ** 2))\n",
    "pred_hs_dir2_max = np.max(np.abs(pred_hs_dir2 - y_test))\n",
    "\n",
    "pred_hs_bat_mae = np.mean(np.abs(pred_hs_bat - y_test))\n",
    "pred_hs_bat_rmse = np.sqrt(np.mean((pred_hs_bat - y_test) ** 2))\n",
    "pred_hs_bat_max = np.max(np.abs(pred_hs_bat - y_test))\n",
    "\n",
    "# Print the results\n",
    "print(\"All variables\")\n",
    "print(f\"MAE: {pred_all_mae}\")\n",
    "print(f\"RMSE: {pred_all_rmse}\")\n",
    "print(f\"Max: {pred_all_max}\")\n",
    "print()\n",
    "print(\"HS only\")\n",
    "print(f\"MAE: {pred_hs_mae}\")\n",
    "print(f\"RMSE: {pred_hs_rmse}\")\n",
    "print(f\"Max: {pred_hs_max}\")\n",
    "print()\n",
    "print(\"HS + TM\")\n",
    "print(f\"MAE: {pred_hs_tm_mae}\")\n",
    "print(f\"RMSE: {pred_hs_tm_rmse}\")\n",
    "print(f\"Max: {pred_hs_tm_max}\")\n",
    "print()\n",
    "print(\"HS + Dir\")\n",
    "print(f\"MAE: {pred_hs_dir_mae}\")\n",
    "print(f\"RMSE: {pred_hs_dir_rmse}\")\n",
    "print(f\"Max: {pred_hs_dir_max}\")\n",
    "print()\n",
    "print(\"HS + Dir2\")\n",
    "print(f\"MAE: {pred_hs_dir2_mae}\")\n",
    "print(f\"RMSE: {pred_hs_dir2_rmse}\")\n",
    "print(f\"Max: {pred_hs_dir2_max}\")\n",
    "print()\n",
    "print(\"HS + Bat\")\n",
    "print(f\"MAE: {pred_hs_bat_mae}\")\n",
    "print(f\"RMSE: {pred_hs_bat_rmse}\")\n",
    "print(f\"Max: {pred_hs_bat_max}\")"
   ]
  },
  {
   "cell_type": "markdown",
   "metadata": {},
   "source": [
    "# Region 2"
   ]
  },
  {
   "cell_type": "code",
   "execution_count": 9,
   "metadata": {},
   "outputs": [],
   "source": [
    "nregion = 2\n",
    "region = f\"Region{nregion}LR4\"\n",
    "root_dir = Path(\"../Data\") / region\n",
    "\n",
    "test_years = 1964\n",
    "\n",
    "res = \"HR_6cpu\""
   ]
  },
  {
   "cell_type": "code",
   "execution_count": 10,
   "metadata": {},
   "outputs": [],
   "source": [
    "# Load the different predictions\n",
    "pred_all_fname = \"region2-lr8-migraphnet-59-60-61-62-63-15-5-wreg-all.npy\"\n",
    "pred_all = np.load(root_dir / \"predictions\" / pred_all_fname)\n",
    "\n",
    "# pred_hs_fname = \"region2-lr8-migraphnet-59-60-61-62-63-15-5-wreg-only-hs.npy\"\n",
    "# pred_hs = np.load(root_dir / \"predictions\" / pred_hs_fname)\n",
    "\n",
    "pred_hs_tm_fname = \"region2-lr8-migraphnet-59-60-61-62-63-15-5-wreg-hs-tm10.npy\"\n",
    "pred_hs_tm = np.load(root_dir / \"predictions\" / pred_hs_tm_fname)\n",
    "\n",
    "pred_hs_dir_fname = \"region2-lr8-migraphnet-59-60-61-62-63-15-5-wreg-hs-dir.npy\"\n",
    "pred_hs_dir = np.load(root_dir / \"predictions\" / pred_hs_dir_fname)\n",
    "\n",
    "pred_hs_dir_fname = \"region123-lr8-migraphnet-59-60-61-62-63-15-5-wreg-hs-dir.npy\"\n",
    "pred_hs_dir2 = np.load(root_dir / \"predictions\" / pred_hs_dir_fname)\n",
    "\n",
    "# pred_hs_bat_fname = \"region2-lr8-migraphnet-59-60-61-62-63-15-5-wreg-hs-bat.npy\"\n",
    "# pred_hs_bat = np.load(root_dir / \"predictions\" / pred_hs_bat_fname)\n",
    "\n",
    "# Load the drop index\n",
    "drop_idx = np.load(root_dir / res / \"drop_index.npy\")"
   ]
  },
  {
   "cell_type": "code",
   "execution_count": 11,
   "metadata": {},
   "outputs": [
    {
     "name": "stderr",
     "output_type": "stream",
     "text": [
      "/home/jannik/Documents/PhD/Super_Resolution_General/SROnUnstructuredGrids/datautilities/datautilities/meshmethods.py:106: RuntimeWarning: invalid value encountered in cast\n",
      "  data[idx] = np.load(fpath).squeeze()\n"
     ]
    }
   ],
   "source": [
    "# Load test data\n",
    "y_test = mm.load_data(years=test_years, res=res, root_dir=root_dir)\n",
    "\n",
    "# Delete the nan indices and flatten the data\n",
    "y_test = np.delete(y_test, drop_idx, axis=1).flatten()"
   ]
  },
  {
   "cell_type": "code",
   "execution_count": 10,
   "metadata": {},
   "outputs": [
    {
     "name": "stdout",
     "output_type": "stream",
     "text": [
      "All variables\n",
      "MAE: 0.005971646623456066\n",
      "RMSE: 0.009873015851184727\n",
      "Max: 0.15711569786071777\n",
      "\n",
      "HS + TM\n",
      "MAE: 0.005760354257936223\n",
      "RMSE: 0.009062810738445856\n",
      "Max: 0.14385771751403809\n",
      "\n",
      "HS + Dir\n",
      "MAE: 0.005455541616676743\n",
      "RMSE: 0.008494849968277214\n",
      "Max: 0.14522290229797363\n",
      "\n",
      "HS + Dir2\n",
      "MAE: 0.006178759696108013\n",
      "RMSE: 0.009740268889381318\n",
      "Max: 0.15229249000549316\n",
      "\n"
     ]
    }
   ],
   "source": [
    "# Compute the mae, rmse, and max error for each prediction\n",
    "pred_all_mae = np.mean(np.abs(pred_all - y_test))\n",
    "pred_all_rmse = np.sqrt(np.mean((pred_all - y_test) ** 2))\n",
    "pred_all_max = np.max(np.abs(pred_all - y_test))\n",
    "\n",
    "# pred_hs_mae = np.mean(np.abs(pred_hs - y_test))\n",
    "# pred_hs_rmse = np.sqrt(np.mean((pred_hs - y_test) ** 2))\n",
    "# pred_hs_max = np.max(np.abs(pred_hs - y_test))\n",
    "\n",
    "pred_hs_tm_mae = np.mean(np.abs(pred_hs_tm - y_test))\n",
    "pred_hs_tm_rmse = np.sqrt(np.mean((pred_hs_tm - y_test) ** 2))\n",
    "pred_hs_tm_max = np.max(np.abs(pred_hs_tm - y_test))\n",
    "\n",
    "pred_hs_dir_mae = np.mean(np.abs(pred_hs_dir - y_test))\n",
    "pred_hs_dir_rmse = np.sqrt(np.mean((pred_hs_dir - y_test) ** 2))\n",
    "pred_hs_dir_max = np.max(np.abs(pred_hs_dir - y_test))\n",
    "\n",
    "pred_hs_dir2_mae = np.mean(np.abs(pred_hs_dir2 - y_test))\n",
    "pred_hs_dir2_rmse = np.sqrt(np.mean((pred_hs_dir2 - y_test) ** 2))\n",
    "pred_hs_dir2_max = np.max(np.abs(pred_hs_dir2 - y_test))\n",
    "\n",
    "# pred_hs_bat_mae = np.mean(np.abs(pred_hs_bat - y_test))\n",
    "# pred_hs_bat_rmse = np.sqrt(np.mean((pred_hs_bat - y_test) ** 2))\n",
    "# pred_hs_bat_max = np.max(np.abs(pred_hs_bat - y_test))\n",
    "\n",
    "# Print the results\n",
    "print(\"All variables\")\n",
    "print(f\"MAE: {pred_all_mae}\")\n",
    "print(f\"RMSE: {pred_all_rmse}\")\n",
    "print(f\"Max: {pred_all_max}\")\n",
    "# print()\n",
    "# print(\"HS only\")\n",
    "# print(f\"MAE: {pred_hs_mae}\")\n",
    "# print(f\"RMSE: {pred_hs_rmse}\")\n",
    "# print(f\"Max: {pred_hs_max}\")\n",
    "print()\n",
    "print(\"HS + TM\")\n",
    "print(f\"MAE: {pred_hs_tm_mae}\")\n",
    "print(f\"RMSE: {pred_hs_tm_rmse}\")\n",
    "print(f\"Max: {pred_hs_tm_max}\")\n",
    "print()\n",
    "print(\"HS + Dir\")\n",
    "print(f\"MAE: {pred_hs_dir_mae}\")\n",
    "print(f\"RMSE: {pred_hs_dir_rmse}\")\n",
    "print(f\"Max: {pred_hs_dir_max}\")\n",
    "print()\n",
    "print(\"HS + Dir2\")\n",
    "print(f\"MAE: {pred_hs_dir2_mae}\")\n",
    "print(f\"RMSE: {pred_hs_dir2_rmse}\")\n",
    "print(f\"Max: {pred_hs_dir2_max}\")\n",
    "print()\n",
    "# print(\"HS + Bat\")\n",
    "# print(f\"MAE: {pred_hs_bat_mae}\")\n",
    "# print(f\"RMSE: {pred_hs_bat_rmse}\")\n",
    "# print(f\"Max: {pred_hs_bat_max}\")"
   ]
  },
  {
   "cell_type": "markdown",
   "metadata": {},
   "source": [
    "# Region 3"
   ]
  },
  {
   "cell_type": "code",
   "execution_count": 16,
   "metadata": {},
   "outputs": [],
   "source": [
    "nregion = 3\n",
    "region = f\"Region{nregion}LR4\"\n",
    "root_dir = Path(\"../Data\") / region\n",
    "\n",
    "test_years = 1964\n",
    "\n",
    "res = \"HR_6cpu\""
   ]
  },
  {
   "cell_type": "code",
   "execution_count": 18,
   "metadata": {},
   "outputs": [],
   "source": [
    "# Load the different predictions\n",
    "pred_all_fname = \"region3-lr8-migraphnet-59-60-61-62-63-15-5-wreg-all.npy\"\n",
    "pred_all = np.load(root_dir / \"predictions\" / pred_all_fname)\n",
    "\n",
    "# pred_hs_fname = \"region3-lr8-migraphnet-59-60-61-62-63-15-5-wreg-only-hs.npy\"\n",
    "# pred_hs = np.load(root_dir / \"predictions\" / pred_hs_fname)\n",
    "\n",
    "pred_hs_tm_fname = \"region3-lr8-migraphnet-59-60-61-62-63-15-5-wreg-hs-tm10.npy\"\n",
    "pred_hs_tm = np.load(root_dir / \"predictions\" / pred_hs_tm_fname)\n",
    "\n",
    "pred_hs_dir_fname = \"region3-lr8-migraphnet-59-60-61-62-63-15-5-wreg-hs-dir-test.npy\"\n",
    "pred_hs_dir = np.load(root_dir / \"predictions\" / pred_hs_dir_fname)\n",
    "\n",
    "pred_hs_dir_fname = \"region123-lr8-migraphnet-59-60-61-62-63-15-5-wreg-hs-dir.npy\"\n",
    "pred_hs_dir2 = np.load(root_dir / \"predictions\" / pred_hs_dir_fname)\n",
    "\n",
    "pred_hs_bat_fname = \"region3-lr8-migraphnet-59-60-61-62-63-15-5-wreg-hs-bat.npy\"\n",
    "pred_hs_bat = np.load(root_dir / \"predictions\" / pred_hs_bat_fname)\n",
    "\n",
    "# Load the drop index\n",
    "drop_idx = np.load(root_dir / res / \"drop_index.npy\")"
   ]
  },
  {
   "cell_type": "code",
   "execution_count": 19,
   "metadata": {},
   "outputs": [],
   "source": [
    "# Load test data\n",
    "y_test = mm.load_data(years=test_years, res=res, root_dir=root_dir)\n",
    "\n",
    "# Delete the nan indices and flatten the data\n",
    "y_test = np.delete(y_test, drop_idx, axis=1).flatten()"
   ]
  },
  {
   "cell_type": "code",
   "execution_count": 20,
   "metadata": {},
   "outputs": [
    {
     "name": "stdout",
     "output_type": "stream",
     "text": [
      "All variables\n",
      "MAE: 0.0034490499226193377\n",
      "RMSE: 0.005522112193672501\n",
      "Max: 0.09830570220947266\n",
      "\n",
      "HS + TM\n",
      "MAE: 0.0028848377384766304\n",
      "RMSE: 0.004432640841259678\n",
      "Max: 0.08832600712776184\n",
      "\n",
      "HS + Dir\n",
      "MAE: 0.0026044066028655176\n",
      "RMSE: 0.004033603295143002\n",
      "Max: 0.08252960443496704\n",
      "\n",
      "HS + Dir2\n",
      "MAE: 0.003847633516091648\n",
      "RMSE: 0.005754192958528636\n",
      "Max: 0.10348272323608398\n",
      "\n",
      "HS + Bat\n",
      "MAE: 0.002673222245214718\n",
      "RMSE: 0.004223736404021111\n",
      "Max: 0.09724783897399902\n"
     ]
    }
   ],
   "source": [
    "# Compute the mae, rmse, and max error for each prediction\n",
    "pred_all_mae = np.mean(np.abs(pred_all - y_test))\n",
    "pred_all_rmse = np.sqrt(np.mean((pred_all - y_test) ** 2))\n",
    "pred_all_max = np.max(np.abs(pred_all - y_test))\n",
    "\n",
    "# pred_hs_mae = np.mean(np.abs(pred_hs - y_test))\n",
    "# pred_hs_rmse = np.sqrt(np.mean((pred_hs - y_test) ** 2))\n",
    "# pred_hs_max = np.max(np.abs(pred_hs - y_test))\n",
    "\n",
    "pred_hs_tm_mae = np.mean(np.abs(pred_hs_tm - y_test))\n",
    "pred_hs_tm_rmse = np.sqrt(np.mean((pred_hs_tm - y_test) ** 2))\n",
    "pred_hs_tm_max = np.max(np.abs(pred_hs_tm - y_test))\n",
    "\n",
    "pred_hs_dir_mae = np.mean(np.abs(pred_hs_dir - y_test))\n",
    "pred_hs_dir_rmse = np.sqrt(np.mean((pred_hs_dir - y_test) ** 2))\n",
    "pred_hs_dir_max = np.max(np.abs(pred_hs_dir - y_test))\n",
    "\n",
    "pred_hs_dir2_mae = np.mean(np.abs(pred_hs_dir2 - y_test))\n",
    "pred_hs_dir2_rmse = np.sqrt(np.mean((pred_hs_dir2 - y_test) ** 2))\n",
    "pred_hs_dir2_max = np.max(np.abs(pred_hs_dir2 - y_test))\n",
    "\n",
    "pred_hs_bat_mae = np.mean(np.abs(pred_hs_bat - y_test))\n",
    "pred_hs_bat_rmse = np.sqrt(np.mean((pred_hs_bat - y_test) ** 2))\n",
    "pred_hs_bat_max = np.max(np.abs(pred_hs_bat - y_test))\n",
    "\n",
    "# Print the results\n",
    "print(\"All variables\")\n",
    "print(f\"MAE: {pred_all_mae}\")\n",
    "print(f\"RMSE: {pred_all_rmse}\")\n",
    "print(f\"Max: {pred_all_max}\")\n",
    "# print()\n",
    "# print(\"HS only\")\n",
    "# print(f\"MAE: {pred_hs_mae}\")\n",
    "# print(f\"RMSE: {pred_hs_rmse}\")\n",
    "# print(f\"Max: {pred_hs_max}\")\n",
    "print()\n",
    "print(\"HS + TM\")\n",
    "print(f\"MAE: {pred_hs_tm_mae}\")\n",
    "print(f\"RMSE: {pred_hs_tm_rmse}\")\n",
    "print(f\"Max: {pred_hs_tm_max}\")\n",
    "print()\n",
    "print(\"HS + Dir\")\n",
    "print(f\"MAE: {pred_hs_dir_mae}\")\n",
    "print(f\"RMSE: {pred_hs_dir_rmse}\")\n",
    "print(f\"Max: {pred_hs_dir_max}\")\n",
    "print()\n",
    "print(\"HS + Dir2\")\n",
    "print(f\"MAE: {pred_hs_dir2_mae}\")\n",
    "print(f\"RMSE: {pred_hs_dir2_rmse}\")\n",
    "print(f\"Max: {pred_hs_dir2_max}\")\n",
    "print()\n",
    "print(\"HS + Bat\")\n",
    "print(f\"MAE: {pred_hs_bat_mae}\")\n",
    "print(f\"RMSE: {pred_hs_bat_rmse}\")\n",
    "print(f\"Max: {pred_hs_bat_max}\")"
   ]
  },
  {
   "cell_type": "code",
   "execution_count": null,
   "metadata": {},
   "outputs": [],
   "source": []
  }
 ],
 "metadata": {
  "kernelspec": {
   "display_name": "pytorch_mcia",
   "language": "python",
   "name": "python3"
  },
  "language_info": {
   "codemirror_mode": {
    "name": "ipython",
    "version": 3
   },
   "file_extension": ".py",
   "mimetype": "text/x-python",
   "name": "python",
   "nbconvert_exporter": "python",
   "pygments_lexer": "ipython3",
   "version": "3.10.12"
  }
 },
 "nbformat": 4,
 "nbformat_minor": 2
}

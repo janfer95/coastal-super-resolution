{
 "cells": [
  {
   "cell_type": "code",
   "execution_count": 1,
   "metadata": {},
   "outputs": [],
   "source": [
    "import numpy as np\n",
    "\n",
    "from pathlib import Path\n",
    "\n",
    "from datautilities import meshmethods as mm"
   ]
  },
  {
   "cell_type": "code",
   "execution_count": 2,
   "metadata": {},
   "outputs": [],
   "source": [
    "# Specifications\n",
    "year = 1959\n",
    "spec_list = [nspec for nspec in range(37, 44)] + [126, 127]\n",
    "nfeat = 32*24\n",
    "\n",
    "nspecs = len(spec_list)"
   ]
  },
  {
   "cell_type": "code",
   "execution_count": 3,
   "metadata": {},
   "outputs": [],
   "source": [
    "# File names\n",
    "path_template = \"../Data/Spectra/Spectrum{nspec}/1959/\"\n",
    "\n",
    "specs = np.empty((2919, nspecs, nfeat))\n",
    "\n",
    "for nspec, spec_item in enumerate(spec_list):\n",
    "    glob_path = Path(path_template.format(nspec=spec_item))\n",
    "    spec_paths = sorted(glob_path.glob(\"*.npy\"))\n",
    "    for idx, spec_path in enumerate(spec_paths):\n",
    "        specs[idx, nspec] = np.load(spec_path).flatten()\n"
   ]
  },
  {
   "cell_type": "code",
   "execution_count": 6,
   "metadata": {},
   "outputs": [],
   "source": [
    "maxs = np.max(specs, axis=0)\n",
    "mins = np.min(specs, axis=0)"
   ]
  },
  {
   "cell_type": "code",
   "execution_count": 5,
   "metadata": {},
   "outputs": [],
   "source": [
    "np.save(\"../Data/Spectra/maxs_1959.npy\", maxs)"
   ]
  },
  {
   "cell_type": "markdown",
   "metadata": {},
   "source": [
    "# Get max and min values for low-resolution wave data"
   ]
  },
  {
   "cell_type": "code",
   "execution_count": 39,
   "metadata": {},
   "outputs": [
    {
     "name": "stdout",
     "output_type": "stream",
     "text": [
      "(14603, 69, 2)\n"
     ]
    }
   ],
   "source": [
    "var = \"Dir\"\n",
    "# res = \"HR_6cpu\"\n",
    "res = \"LR8_raw_6cpu\"\n",
    "root_dir = \"../Data/Region2LR4\"\n",
    "years = [1959, 1960, 1961, 1962, 1963]\n",
    "\n",
    "lr = mm.load_data(years=years, res=res, root_dir=root_dir, var=var)\n",
    "print(lr.shape)"
   ]
  },
  {
   "cell_type": "code",
   "execution_count": 23,
   "metadata": {},
   "outputs": [],
   "source": [
    "np.save(f\"{root_dir}/{res}/drop_index.npy\",\n",
    "        np.isnan(lr).all(axis=0).nonzero()[0])"
   ]
  },
  {
   "cell_type": "code",
   "execution_count": 3,
   "metadata": {},
   "outputs": [
    {
     "data": {
      "text/plain": [
       "1"
      ]
     },
     "execution_count": 3,
     "metadata": {},
     "output_type": "execute_result"
    }
   ],
   "source": [
    "np.isnan(lr).all(axis=0).all(axis=1).sum()"
   ]
  },
  {
   "cell_type": "code",
   "execution_count": 19,
   "metadata": {},
   "outputs": [
    {
     "data": {
      "text/plain": [
       "78"
      ]
     },
     "execution_count": 19,
     "metadata": {},
     "output_type": "execute_result"
    }
   ],
   "source": [
    "np.isnan(lr).all(axis=0).sum()"
   ]
  },
  {
   "cell_type": "code",
   "execution_count": 40,
   "metadata": {},
   "outputs": [
    {
     "name": "stdout",
     "output_type": "stream",
     "text": [
      "Mean: [-0.9209967  0.3280739]\n",
      "Std: [0.07380508 0.19668607]\n"
     ]
    }
   ],
   "source": [
    "axis = None\n",
    "if var == \"Dir\":\n",
    "    axis = (0, 1)\n",
    "\n",
    "mean = np.nanmean(lr, axis=axis)\n",
    "std = np.nanstd(lr, axis=axis)\n",
    "np.save(f\"{root_dir}/{res}/{var}/znorm_1959_1960_1961_1962_1963.npy\",\n",
    "        np.r_[mean, std])\n",
    "print(\"Mean:\", mean)\n",
    "print(\"Std:\", std)"
   ]
  },
  {
   "cell_type": "code",
   "execution_count": null,
   "metadata": {},
   "outputs": [],
   "source": []
  }
 ],
 "metadata": {
  "kernelspec": {
   "display_name": "ugrid",
   "language": "python",
   "name": "python3"
  },
  "language_info": {
   "codemirror_mode": {
    "name": "ipython",
    "version": 3
   },
   "file_extension": ".py",
   "mimetype": "text/x-python",
   "name": "python",
   "nbconvert_exporter": "python",
   "pygments_lexer": "ipython3",
   "version": "3.10.12"
  }
 },
 "nbformat": 4,
 "nbformat_minor": 2
}

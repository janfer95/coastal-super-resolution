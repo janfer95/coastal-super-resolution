{
 "cells": [
  {
   "cell_type": "code",
   "execution_count": 1,
   "metadata": {},
   "outputs": [],
   "source": [
    "import torch\n",
    "import numpy as np\n",
    "\n",
    "from pathlib import Path"
   ]
  },
  {
   "cell_type": "code",
   "execution_count": 13,
   "metadata": {},
   "outputs": [],
   "source": [
    "# Configurations\n",
    "model_name = \"region3-lr8-migraphnet-59-60-61-62-63-15-5-wreg-hs-tm10\"\n",
    "area = \"Region3LR4\"\n",
    "\n",
    "# Create correct paths\n",
    "model_path = (Path(\"model-weights\")\n",
    "              / model_name \n",
    "              / \"Predictions\"\n",
    "              / \"predictions.pt\")\n",
    "\n",
    "out_fname = f\"{model_name}.npy\"\n",
    "out_path = Path(\"../Data/\") / area / \"predictions\" / out_fname\n",
    "out_path.parent.mkdir(exist_ok=True, parents=True)"
   ]
  },
  {
   "cell_type": "code",
   "execution_count": 14,
   "metadata": {},
   "outputs": [],
   "source": [
    "preds = torch.load(model_path)\n",
    "if isinstance(preds, list):  # Make it compatible with old prediction writer\n",
    "    preds = torch.cat(preds)\n",
    "\n",
    "np.save(out_path, preds.float().flatten().squeeze().numpy())"
   ]
  },
  {
   "cell_type": "code",
   "execution_count": 4,
   "metadata": {},
   "outputs": [
    {
     "ename": "RuntimeError",
     "evalue": "shape '[-1, 2]' is invalid for input of size 10937493",
     "output_type": "error",
     "traceback": [
      "\u001b[0;31m---------------------------------------------------------------------------\u001b[0m",
      "\u001b[0;31mRuntimeError\u001b[0m                              Traceback (most recent call last)",
      "Cell \u001b[0;32mIn[4], line 1\u001b[0m\n\u001b[0;32m----> 1\u001b[0m \u001b[43mpreds\u001b[49m\u001b[38;5;241;43m.\u001b[39;49m\u001b[43mreshape\u001b[49m\u001b[43m(\u001b[49m\u001b[43m(\u001b[49m\u001b[38;5;241;43m-\u001b[39;49m\u001b[38;5;241;43m1\u001b[39;49m\u001b[43m,\u001b[49m\u001b[43m \u001b[49m\u001b[38;5;241;43m2\u001b[39;49m\u001b[43m)\u001b[49m\u001b[43m)\u001b[49m\u001b[38;5;241m.\u001b[39mmin(dim\u001b[38;5;241m=\u001b[39m\u001b[38;5;241m0\u001b[39m)[\u001b[38;5;241m0\u001b[39m]\n",
      "\u001b[0;31mRuntimeError\u001b[0m: shape '[-1, 2]' is invalid for input of size 10937493"
     ]
    }
   ],
   "source": [
    "preds.reshape((-1, 2)).min(dim=0)[0]"
   ]
  },
  {
   "cell_type": "markdown",
   "metadata": {},
   "source": [
    "# Convert normalized predictions"
   ]
  },
  {
   "cell_type": "code",
   "execution_count": 2,
   "metadata": {},
   "outputs": [],
   "source": [
    "# Configurations\n",
    "model_name = \"region3-lr8-migraphnet-59-60-61-62-63-15-5-wreg-hs-dir-test\"\n",
    "area = \"Region3LR4\"\n",
    "var = \"Hs\"\n",
    "norm_years = \"1959_1960_1961_1962_1963\"\n",
    "\n",
    "# Create correct paths\n",
    "model_path = (Path(\"model-weights\")\n",
    "              / model_name \n",
    "              / \"Predictions\"\n",
    "              / \"predictions.pt\")\n",
    "\n",
    "out_fname = f\"{model_name}.npy\"\n",
    "out_path = Path(\"../Data/\") / area / \"predictions\" / out_fname\n",
    "out_path.parent.mkdir(exist_ok=True, parents=True)"
   ]
  },
  {
   "cell_type": "code",
   "execution_count": 3,
   "metadata": {},
   "outputs": [],
   "source": [
    "preds = torch.load(model_path)"
   ]
  },
  {
   "cell_type": "code",
   "execution_count": 4,
   "metadata": {},
   "outputs": [],
   "source": [
    "# Load normalization parameters\n",
    "mean, std = np.load(f\"../Data/{area}/HR_6cpu/{var}/znorm_{norm_years}.npy\")"
   ]
  },
  {
   "cell_type": "code",
   "execution_count": 5,
   "metadata": {},
   "outputs": [],
   "source": [
    "preds = torch.load(model_path)\n",
    "if isinstance(preds, list):  # Make it compatible with old prediction writer\n",
    "    preds = torch.cat(preds)\n",
    "\n",
    "preds = preds.float().flatten().squeeze().numpy()\n",
    "\n",
    "np.save(out_path, preds * std + mean)"
   ]
  },
  {
   "cell_type": "markdown",
   "metadata": {},
   "source": [
    "# Convert multi-region predictions"
   ]
  },
  {
   "cell_type": "code",
   "execution_count": 49,
   "metadata": {},
   "outputs": [],
   "source": [
    "# Configurations\n",
    "model_name = \"region123-lr8-migraphnet-59-60-61-62-63-15-5-wreg-hs-dir\"\n",
    "area = \"Region3LR4\"\n",
    "var = \"Hs\"\n",
    "norm_years = \"1959_1960_1961_1962_1963\"\n",
    "\n",
    "# Create correct paths\n",
    "model_path = (Path(\"model-weights-curta\")\n",
    "              / model_name \n",
    "              / \"Predictions\"\n",
    "              / \"predictions.pt\")\n",
    "\n",
    "out_fname = f\"{model_name}.npy\"\n",
    "out_path = Path(\"../Data/\") / area / \"predictions\" / out_fname\n",
    "out_path.parent.mkdir(exist_ok=True, parents=True)"
   ]
  },
  {
   "cell_type": "code",
   "execution_count": 87,
   "metadata": {},
   "outputs": [],
   "source": [
    "preds = torch.load(model_path)"
   ]
  },
  {
   "cell_type": "code",
   "execution_count": 88,
   "metadata": {},
   "outputs": [],
   "source": [
    "# Index for Region 1: 7*2338 + 8*364*2338\n",
    "# Index for Region 2: 1*3747 + 8*364*3747 + 6*3747\n",
    "# Index for Region 3: 2*2652 + 8*364*2652 + 5*2652\n",
    "idx1 = 7*2338 + 8*364*2338\n",
    "idx2 = idx1 + 1*3747 + 8*364*3747 + 6*3747\n",
    "idx3 = idx2 + 2*2652 + 8*364*2652 + 5*2652"
   ]
  },
  {
   "cell_type": "code",
   "execution_count": 89,
   "metadata": {},
   "outputs": [],
   "source": [
    "preds = torch.cat(preds)\n",
    "pred1 = preds[:idx1]\n",
    "pred2 = preds[idx1:idx2]\n",
    "pred3 = preds[idx2:idx3]"
   ]
  },
  {
   "cell_type": "code",
   "execution_count": 90,
   "metadata": {},
   "outputs": [],
   "source": [
    "# Load normalization parameters for the different regions\n",
    "mean1, std1 = np.load(f\"../Data/Region1LR4/HR_6cpu/{var}/znorm_{norm_years}.npy\")\n",
    "mean2, std2 = np.load(f\"../Data/Region2LR4/HR_6cpu/{var}/znorm_{norm_years}.npy\")\n",
    "mean3, std3 = np.load(f\"../Data/Region3LR4/HR_6cpu/{var}/znorm_{norm_years}.npy\")"
   ]
  },
  {
   "cell_type": "code",
   "execution_count": 91,
   "metadata": {},
   "outputs": [],
   "source": [
    "# Region 1\n",
    "out_fname = f\"{model_name}.npy\"\n",
    "out_path = Path(\"../Data/\") / \"Region1LR4\" / \"predictions\" / out_fname\n",
    "out_path.parent.mkdir(exist_ok=True, parents=True)\n",
    "\n",
    "pred1 = pred1.float().flatten().squeeze().numpy()\n",
    "np.save(out_path, pred1 * std1 + mean1)\n",
    "\n",
    "# Region 2\n",
    "out_fname = f\"{model_name}.npy\"\n",
    "out_path = Path(\"../Data/\") / \"Region2LR4\" / \"predictions\" / out_fname\n",
    "out_path.parent.mkdir(exist_ok=True, parents=True)\n",
    "\n",
    "pred2 = pred2.float().flatten().squeeze().numpy()\n",
    "np.save(out_path, pred2 * std2 + mean2)\n",
    "\n",
    "# Region 3\n",
    "out_fname = f\"{model_name}.npy\"\n",
    "out_path = Path(\"../Data/\") / \"Region3LR4\" / \"predictions\" / out_fname\n",
    "out_path.parent.mkdir(exist_ok=True, parents=True)\n",
    "\n",
    "pred3 = pred3.float().flatten().squeeze().numpy()\n",
    "np.save(out_path, pred3 * std3 + mean3)"
   ]
  },
  {
   "cell_type": "code",
   "execution_count": null,
   "metadata": {},
   "outputs": [],
   "source": []
  }
 ],
 "metadata": {
  "kernelspec": {
   "display_name": "pytorch_mcia",
   "language": "python",
   "name": "python3"
  },
  "language_info": {
   "codemirror_mode": {
    "name": "ipython",
    "version": 3
   },
   "file_extension": ".py",
   "mimetype": "text/x-python",
   "name": "python",
   "nbconvert_exporter": "python",
   "pygments_lexer": "ipython3",
   "version": "3.10.12"
  }
 },
 "nbformat": 4,
 "nbformat_minor": 2
}

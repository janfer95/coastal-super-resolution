{
 "cells": [
  {
   "cell_type": "code",
   "execution_count": 8,
   "metadata": {},
   "outputs": [],
   "source": [
    "import pickle\n",
    "import numpy as np\n",
    "\n",
    "from pathlib import Path\n",
    "\n",
    "from datautilities import meshmethods as mm"
   ]
  },
  {
   "cell_type": "code",
   "execution_count": 9,
   "metadata": {},
   "outputs": [],
   "source": [
    "nregions = [1, 2, 3]\n",
    "region_pattern = \"Region{}LR4\"\n",
    "\n",
    "test_years = 1964\n",
    "res = \"HR_6cpu\"\n",
    "\n",
    "root_dirs = [Path(\"../Data\") / region_pattern.format(nreg) for nreg in nregions]\n"
   ]
  },
  {
   "cell_type": "code",
   "execution_count": 10,
   "metadata": {},
   "outputs": [
    {
     "name": "stderr",
     "output_type": "stream",
     "text": [
      "/home/jannik/Documents/PhD/Super_Resolution_General/SROnUnstructuredGrids/datautilities/datautilities/meshmethods.py:106: RuntimeWarning: invalid value encountered in cast\n",
      "  data[idx] = np.load(fpath).squeeze()\n",
      "/tmp/ipykernel_64357/866532592.py:15: RuntimeWarning: divide by zero encountered in divide\n",
      "  diff = np.abs(pred - y_test)/y_test\n"
     ]
    }
   ],
   "source": [
    "diffs = []\n",
    "y_tests = []\n",
    "shps = []\n",
    "for nreg, root_dir in zip(nregions, root_dirs):\n",
    "    pred_fname = f\"region{nreg}-lr8-migraphnet-59-60-61-62-63-15-5-wreg-hs-dir.npy\"\n",
    "    pred = np.load(root_dir / \"predictions\" / pred_fname)\n",
    "\n",
    "    drop_idx = np.load(root_dir / res / \"drop_index.npy\")\n",
    "    y_test = mm.load_data(years=test_years, root_dir=root_dir, res=res)\n",
    "    y_test = np.delete(y_test, drop_idx, axis=1)\n",
    "    shps.append(y_test.shape)\n",
    "    y_test = y_test.flatten()\n",
    "\n",
    "    # diff = np.abs(pred - y_test)\n",
    "    diff = np.abs(pred - y_test)/y_test\n",
    "    diff[diff == np.inf] = np.nan\n",
    "    diffs.append(diff)\n",
    "    y_tests.append(y_test)"
   ]
  },
  {
   "cell_type": "markdown",
   "metadata": {},
   "source": [
    "# Prepare general boxplot data"
   ]
  },
  {
   "cell_type": "code",
   "execution_count": 11,
   "metadata": {},
   "outputs": [],
   "source": [
    "# out_path = Path(\"box-data\") / \"box_list_graphnet.pkl\"\n",
    "out_path = Path(\"box-data\") / \"box_list_norm_graphnet.pkl\"\n",
    "\n",
    "if out_path.exists():\n",
    "    general_box_list = pickle.load(out_path.open(\"rb\"))\n",
    "else:\n",
    "    general_box_list = []\n",
    "    for diff in diffs:\n",
    "        diff = 100*diff  # Convert to cm\n",
    "        box = {}\n",
    "        box[\"med\"] = np.nanmedian(diff)\n",
    "        box[\"q1\"] = np.nanpercentile(diff, 25)\n",
    "        box[\"q3\"] = np.nanpercentile(diff, 75)\n",
    "        box[\"whislo\"] = np.nanpercentile(diff, 5)\n",
    "        box[\"whishi\"] = np.nanpercentile(diff, 95)\n",
    "        box[\"mean\"] = np.nanmean(diff)\n",
    "\n",
    "        general_box_list.append(box)\n",
    "\n",
    "    pickle.dump(general_box_list, out_path.open(\"wb\"))"
   ]
  },
  {
   "cell_type": "markdown",
   "metadata": {},
   "source": [
    "# Prepare wave-dependent boxplot data"
   ]
  },
  {
   "cell_type": "code",
   "execution_count": 12,
   "metadata": {},
   "outputs": [],
   "source": [
    "edges = np.arange(0, 4.6, 0.5)\n",
    "\n",
    "errors_list = []\n",
    "for idx, diff in enumerate(diffs):\n",
    "    errors = []\n",
    "\n",
    "    for i in range(len(edges) - 1):\n",
    "        range_mask = (edges[i] <= y_tests[idx]) & (y_tests[idx] < edges[i+1])\n",
    "        errors.append(diff[range_mask]*100)\n",
    "\n",
    "    errors_list.append(errors)\n"
   ]
  },
  {
   "cell_type": "code",
   "execution_count": 6,
   "metadata": {},
   "outputs": [],
   "source": [
    "# Average dependent on offshore distance\n",
    "offshore_pnts = [139, 358, 33]\n",
    "edges = np.arange(0, 4.6, 0.5)\n",
    "errors_list = []\n",
    "for idx, diff in enumerate(diffs):\n",
    "    errors = []\n",
    "    # Convert to %\n",
    "    diff = 100*diff.reshape(shps[idx])\n",
    "    y_test = y_tests[idx].reshape(shps[idx])\n",
    "    for i in range(len(edges) - 1):\n",
    "        range_mask = (edges[i] <= y_test[:, offshore_pnts[idx]]) & (y_test[:, offshore_pnts[idx]] < edges[i+1])\n",
    "        errors.append(diff[range_mask].flatten())\n",
    "\n",
    "    errors_list.append(errors)"
   ]
  },
  {
   "cell_type": "code",
   "execution_count": 17,
   "metadata": {},
   "outputs": [
    {
     "name": "stdout",
     "output_type": "stream",
     "text": [
      "[3.24912501e-01 4.02590209e-01 1.53743900e-01 6.76035977e-02\n",
      " 3.00202707e-02 1.36196554e-02 6.17294262e-03 1.30146402e-03\n",
      " 3.54598394e-05]\n",
      "[3.13559424e-01 4.03030567e-01 1.63378482e-01 6.74109689e-02\n",
      " 2.85950354e-02 1.53965813e-02 6.85495296e-03 1.74290397e-03\n",
      " 3.10857342e-05]\n",
      "[2.78652579e-01 4.18708989e-01 1.81681029e-01 6.94371458e-02\n",
      " 2.88459601e-02 1.45477671e-02 6.72041552e-03 1.38583380e-03\n",
      " 2.02811248e-05]\n"
     ]
    }
   ],
   "source": [
    "a0 = np.array([len(errors) for errors in errors_list[0]])\n",
    "a1 = np.array([len(errors) for errors in errors_list[1]])\n",
    "a2 = np.array([len(errors) for errors in errors_list[2]])\n",
    "print(a0/a0.sum())\n",
    "print(a1/a1.sum())\n",
    "print(a2/a2.sum())"
   ]
  },
  {
   "cell_type": "code",
   "execution_count": 7,
   "metadata": {},
   "outputs": [
    {
     "name": "stderr",
     "output_type": "stream",
     "text": [
      "/home/jannik/anaconda3/envs/ugrid/lib/python3.10/site-packages/numpy/lib/nanfunctions.py:1215: RuntimeWarning: Mean of empty slice\n",
      "  return np.nanmean(a, axis, out=out, keepdims=keepdims)\n",
      "/home/jannik/anaconda3/envs/ugrid/lib/python3.10/site-packages/numpy/lib/nanfunctions.py:1555: RuntimeWarning: Mean of empty slice\n",
      "  return np.nanmean(a, axis, out=out, keepdims=keepdims)\n",
      "/tmp/ipykernel_63303/3285856305.py:16: RuntimeWarning: Mean of empty slice\n",
      "  box[\"mean\"] = np.nanmean(errors)\n"
     ]
    }
   ],
   "source": [
    "# out_path = Path(\"box-data\") / \"box_list_of_lists_norm_graphnet.pkl\"\n",
    "out_path = Path(\"box-data\") / \"box_list_of_lists_norm_off_graphnet.pkl\"\n",
    "# out_path = Path(\"box-data\") / \"box_list_of_lists_graphnet.pkl\"\n",
    "\n",
    "# Compute boxplot stats for each separate wave height range\n",
    "box_list_of_lists = []\n",
    "for error_list in errors_list:\n",
    "    box_list = []\n",
    "    for errors in error_list:\n",
    "        box = {}\n",
    "        box[\"med\"] = np.nanmedian(errors)\n",
    "        box[\"q1\"] = np.nanpercentile(errors, 25)\n",
    "        box[\"q3\"] = np.nanpercentile(errors, 75)\n",
    "        box[\"whislo\"] = np.nanpercentile(errors, 5)\n",
    "        box[\"whishi\"] = np.nanpercentile(errors, 95)\n",
    "        box[\"mean\"] = np.nanmean(errors)\n",
    "\n",
    "        box_list.append(box)\n",
    "\n",
    "    box_list_of_lists.append(box_list)\n",
    "\n",
    "pickle.dump(box_list_of_lists, out_path.open(\"wb\"))"
   ]
  },
  {
   "cell_type": "code",
   "execution_count": 8,
   "metadata": {},
   "outputs": [],
   "source": [
    "# Compute and save mae, rmse, and max error for three regions\n",
    "maes = np.empty((len(diffs)))\n",
    "rmses = np.empty((len(diffs)))\n",
    "max_errors = np.empty((len(diffs)))\n",
    "\n",
    "for idx, diff in enumerate(diffs):\n",
    "    if idx == 2:\n",
    "        diff[diff == np.inf] = np.nan\n",
    "    # Convert it to cm\n",
    "    diff = 100*diff\n",
    "    maes[idx] = np.nanmean(diff)\n",
    "    rmses[idx] = np.sqrt(np.nanmean(diff**2))\n",
    "    max_errors[idx] = np.nanmax(diff)"
   ]
  },
  {
   "cell_type": "code",
   "execution_count": 9,
   "metadata": {},
   "outputs": [],
   "source": [
    "np.save(\"box-data/stats_norm_graphnet\", np.vstack((maes, rmses, max_errors)).T)"
   ]
  },
  {
   "cell_type": "code",
   "execution_count": 6,
   "metadata": {},
   "outputs": [
    {
     "data": {
      "text/plain": [
       "0.0027412091819132844"
      ]
     },
     "execution_count": 6,
     "metadata": {},
     "output_type": "execute_result"
    }
   ],
   "source": [
    "np.nanmedian(diffs[2])"
   ]
  },
  {
   "cell_type": "code",
   "execution_count": null,
   "metadata": {},
   "outputs": [],
   "source": []
  }
 ],
 "metadata": {
  "kernelspec": {
   "display_name": "ugrid",
   "language": "python",
   "name": "python3"
  },
  "language_info": {
   "codemirror_mode": {
    "name": "ipython",
    "version": 3
   },
   "file_extension": ".py",
   "mimetype": "text/x-python",
   "name": "python",
   "nbconvert_exporter": "python",
   "pygments_lexer": "ipython3",
   "version": "3.10.12"
  }
 },
 "nbformat": 4,
 "nbformat_minor": 2
}
